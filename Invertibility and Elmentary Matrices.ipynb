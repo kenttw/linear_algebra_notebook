{
 "cells": [
  {
   "cell_type": "markdown",
   "metadata": {},
   "source": [
    "# Invertibility and Elmentary Matrices\n",
    "* [上課影片](http://ocw.aca.ntu.edu.tw/ntu-ocw/index.php/ocw/cou/102S207/7/V/1?v=ntu)\n",
    "* [上課講義](http://ocw.aca.ntu.edu.tw/ocw_files/102S207/102S207_CS08L01.pdf)\n",
    "* 示意圖"
   ]
  },
  {
   "cell_type": "markdown",
   "metadata": {
    "collapsed": true
   },
   "source": [
    "## 重要定理\n",
    "* If $n*n$ $A$ is <span style=\"color:red\">invertiable</span> that exists and $n*n$ matrix $B$ , $AB=BA=I_n$\n",
    "* If $A$ is invertiable then the $rank$ of $A$ is $N$"
   ]
  },
  {
   "cell_type": "markdown",
   "metadata": {
    "collapsed": true
   },
   "source": [
    "## 二階逆矩陣\n",
    "* [參老資料](http://mail.tlsh.tp.edu.tw/~h397/teach/teach_3-2.htm)"
   ]
  },
  {
   "cell_type": "code",
   "execution_count": null,
   "metadata": {
    "collapsed": true
   },
   "outputs": [],
   "source": []
  }
 ],
 "metadata": {
  "kernelspec": {
   "display_name": "Python 3",
   "language": "python",
   "name": "python3"
  },
  "language_info": {
   "codemirror_mode": {
    "name": "ipython",
    "version": 2
   },
   "file_extension": ".py",
   "mimetype": "text/x-python",
   "name": "python",
   "nbconvert_exporter": "python",
   "pygments_lexer": "ipython2",
   "version": "2.7.13"
  }
 },
 "nbformat": 4,
 "nbformat_minor": 2
}
